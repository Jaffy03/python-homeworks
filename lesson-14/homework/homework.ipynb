{
 "cells": [
  {
   "cell_type": "code",
   "execution_count": 5,
   "metadata": {},
   "outputs": [
    {
     "name": "stdout",
     "output_type": "stream",
     "text": [
      "32 F = 0.0 C\n",
      "68 F = 20.0 C\n",
      "100 F = 37.78 C\n",
      "212 F = 100.0 C\n",
      "77 F = 25.0 C\n"
     ]
    }
   ],
   "source": [
    "#1. Convert Fahrenheit to Celcius\n",
    "import numpy as np\n",
    "def fah_to_cel(f):\n",
    "    c = round((f-32)*5/9, 2)\n",
    "    return c\n",
    "\n",
    "vectorized = np.vectorize(fah_to_cel)\n",
    "f_temp = np.array([32, 68, 100, 212, 77])\n",
    "c_temp = vectorized(f_temp)\n",
    "for f, c in zip(f_temp, c_temp):\n",
    "    print(f\"{f} F = {c} C\")\n",
    "\n"
   ]
  },
  {
   "cell_type": "code",
   "execution_count": 6,
   "metadata": {},
   "outputs": [
    {
     "name": "stdout",
     "output_type": "stream",
     "text": [
      "2 ^ 1 = 2\n",
      "3 ^ 2 = 9\n",
      "4 ^ 3 = 64\n",
      "5 ^ 4 = 625\n"
     ]
    }
   ],
   "source": [
    "#2. Custom function to take power\n",
    "import numpy as np\n",
    "def custom_pow(n, p):\n",
    "    return n**p\n",
    "\n",
    "vectorized = np.vectorize(custom_pow)\n",
    "num = np.array([2, 3, 4, 5])\n",
    "power = np.array([1, 2, 3, 4])\n",
    "\n",
    "ans = vectorized(num, power)\n",
    "for n, p, a in zip(num, power, ans):\n",
    "    print(f\"{n} ^ {p} = {a}\")"
   ]
  },
  {
   "cell_type": "code",
   "execution_count": null,
   "metadata": {},
   "outputs": [
    {
     "name": "stdout",
     "output_type": "stream",
     "text": [
      "Answer =  [ 1.7027027   0.62162162 -0.48648649]\n"
     ]
    }
   ],
   "source": [
    "#3. Solve the system of equations\n",
    "import numpy as np\n",
    "A = np.array([[4, 5, 6],\n",
    "              [3, -1, 1],\n",
    "              [2, 1, -2]])\n",
    "\n",
    "b = np.array([7, 4, 5])\n",
    "ans = np.linalg.solve(A, b)\n",
    "print(\"Answer = \", ans)"
   ]
  },
  {
   "cell_type": "code",
   "execution_count": 15,
   "metadata": {},
   "outputs": [
    {
     "name": "stdout",
     "output_type": "stream",
     "text": [
      "Current1 = 0.49\n",
      "Current2 = -0.23\n",
      "Current3 = 2.22\n"
     ]
    }
   ],
   "source": [
    "#4. Solve for currents in the branches\n",
    "import numpy as np\n",
    "A = np.array([[10, -2, 3],\n",
    "              [-2, 8, -1],\n",
    "              [3, -1, 6]])\n",
    "\n",
    "b = np.array([12, -5, 15])\n",
    "\n",
    "currents = np.linalg.solve(A, b)\n",
    "n = 0\n",
    "for i in currents:\n",
    "    n +=1\n",
    "    print(f\"Current{n} = {i:.2f}\")"
   ]
  },
  {
   "cell_type": "code",
   "execution_count": null,
   "metadata": {},
   "outputs": [],
   "source": []
  }
 ],
 "metadata": {
  "kernelspec": {
   "display_name": "Python 3",
   "language": "python",
   "name": "python3"
  },
  "language_info": {
   "codemirror_mode": {
    "name": "ipython",
    "version": 3
   },
   "file_extension": ".py",
   "mimetype": "text/x-python",
   "name": "python",
   "nbconvert_exporter": "python",
   "pygments_lexer": "ipython3",
   "version": "3.12.9"
  }
 },
 "nbformat": 4,
 "nbformat_minor": 2
}
