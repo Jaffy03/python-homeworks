{
 "cells": [
  {
   "cell_type": "code",
   "execution_count": null,
   "metadata": {},
   "outputs": [
    {
     "name": "stdout",
     "output_type": "stream",
     "text": [
      "2\n"
     ]
    }
   ],
   "source": [
    "#tuple1\n",
    "my_tuple=(1, 2, 4, 5, 6, 2)\n",
    "occurence_num=my_tuple.count(2)\n",
    "print(occurence_num)\n",
    "    "
   ]
  },
  {
   "cell_type": "code",
   "execution_count": 2,
   "metadata": {},
   "outputs": [
    {
     "name": "stdout",
     "output_type": "stream",
     "text": [
      "6\n"
     ]
    }
   ],
   "source": [
    "#tuple2\n",
    "my_tuple=(1, 2, 4, 5, 6, 2)\n",
    "max_value=max(my_tuple)\n",
    "print(max_value)\n"
   ]
  },
  {
   "cell_type": "code",
   "execution_count": 3,
   "metadata": {},
   "outputs": [
    {
     "name": "stdout",
     "output_type": "stream",
     "text": [
      "1\n"
     ]
    }
   ],
   "source": [
    "#tuple3\n",
    "my_tuple=(1, 2, 4, 5, 6, 2)\n",
    "min_value=min(my_tuple)\n",
    "print(min_value)\n"
   ]
  },
  {
   "cell_type": "code",
   "execution_count": 5,
   "metadata": {},
   "outputs": [
    {
     "name": "stdout",
     "output_type": "stream",
     "text": [
      "Element is in tuple\n"
     ]
    }
   ],
   "source": [
    "#tuple4\n",
    "my_tuple=(1, 2, 4, 5, 6, 2)\n",
    "el=4\n",
    "if el in my_tuple:\n",
    "    print(\"Element is in tuple\")\n",
    "else:\n",
    "    print(\"Element is not in tuple\")"
   ]
  },
  {
   "cell_type": "code",
   "execution_count": 8,
   "metadata": {},
   "outputs": [
    {
     "name": "stdout",
     "output_type": "stream",
     "text": [
      "Empty tuple\n"
     ]
    }
   ],
   "source": [
    "#tuple5\n",
    "my_tuple=()\n",
    "if my_tuple:\n",
    "    print(my_tuple[0])\n",
    "else:\n",
    "    print(\"Empty tuple\")"
   ]
  },
  {
   "cell_type": "code",
   "execution_count": 9,
   "metadata": {},
   "outputs": [
    {
     "name": "stdout",
     "output_type": "stream",
     "text": [
      "2\n"
     ]
    }
   ],
   "source": [
    "#tuple6\n",
    "my_tuple=(1, 2, 4, 5, 6, 2)\n",
    "if my_tuple:\n",
    "    print(my_tuple[-1])\n",
    "else:\n",
    "    print(\"Empty tuple\")"
   ]
  },
  {
   "cell_type": "code",
   "execution_count": 11,
   "metadata": {},
   "outputs": [
    {
     "name": "stdout",
     "output_type": "stream",
     "text": [
      "Length of tuple is 6\n"
     ]
    }
   ],
   "source": [
    "#tuple7\n",
    "my_tuple=(1, 2, 4, 5, 6, 2)\n",
    "x=len(my_tuple)\n",
    "print(f\"Length of tuple is {x}\")"
   ]
  },
  {
   "cell_type": "code",
   "execution_count": 12,
   "metadata": {},
   "outputs": [
    {
     "name": "stdout",
     "output_type": "stream",
     "text": [
      "(1, 2, 4)\n"
     ]
    }
   ],
   "source": [
    "#tuple8\n",
    "my_tuple=(1, 2, 4, 5, 6, 2)\n",
    "new_tuple=my_tuple[:3]\n",
    "print(new_tuple)"
   ]
  },
  {
   "cell_type": "code",
   "execution_count": 14,
   "metadata": {},
   "outputs": [
    {
     "name": "stdout",
     "output_type": "stream",
     "text": [
      "(1, 2, 4, 5, 6, 2, 7, 8, 9)\n"
     ]
    }
   ],
   "source": [
    "#tuple9\n",
    "tuple1=(1, 2, 4, 5, 6, 2)\n",
    "tuple2=(7, 8, 9)\n",
    "tuple3=tuple1+tuple2\n",
    "print(tuple3)"
   ]
  },
  {
   "cell_type": "code",
   "execution_count": 16,
   "metadata": {},
   "outputs": [
    {
     "name": "stdout",
     "output_type": "stream",
     "text": [
      "Tuple is empty\n"
     ]
    }
   ],
   "source": [
    "#tuple10\n",
    "my_tuple=()\n",
    "if my_tuple:\n",
    "    print(\"Tuple is not empty\")\n",
    "else:\n",
    "    print(\"Tuple is empty\")"
   ]
  },
  {
   "cell_type": "code",
   "execution_count": 17,
   "metadata": {},
   "outputs": [
    {
     "name": "stdout",
     "output_type": "stream",
     "text": [
      "[1, 5]\n"
     ]
    }
   ],
   "source": [
    "#tuple11\n",
    "my_tuple=(1, 2, 4, 5, 6, 2)\n",
    "def get_indices(tpl, el):\n",
    "    indices=[]\n",
    "    for i in range(len(tpl)):\n",
    "        if tpl[i]==el:\n",
    "            indices.append(i)\n",
    "    return indices\n",
    "print(get_indices(my_tuple, 2))\n"
   ]
  },
  {
   "cell_type": "code",
   "execution_count": 18,
   "metadata": {},
   "outputs": [
    {
     "name": "stdout",
     "output_type": "stream",
     "text": [
      "5\n"
     ]
    }
   ],
   "source": [
    "#tuple12\n",
    "my_tuple=(1, 2, 4, 5, 6, 2)\n",
    "def second_largest(tpl):\n",
    "    y=list(set(tpl))\n",
    "    if len(y)<2:\n",
    "        return None\n",
    "    y.sort()\n",
    "    return y[-2]\n",
    "print(second_largest(my_tuple))"
   ]
  },
  {
   "cell_type": "code",
   "execution_count": 20,
   "metadata": {},
   "outputs": [
    {
     "name": "stdout",
     "output_type": "stream",
     "text": [
      "2\n"
     ]
    }
   ],
   "source": [
    "#tuple13\n",
    "my_tuple=(1, 2, 4, 5, 6, 2)\n",
    "def second_smallest(tpl):\n",
    "    y=list(set(tpl))\n",
    "    if len(y)<2:\n",
    "        return None\n",
    "    y.sort()\n",
    "    return y[1]\n",
    "print(second_smallest(my_tuple))"
   ]
  },
  {
   "cell_type": "code",
   "execution_count": 23,
   "metadata": {},
   "outputs": [
    {
     "name": "stdout",
     "output_type": "stream",
     "text": [
      "<class 'tuple'>\n"
     ]
    }
   ],
   "source": [
    "#tuple14\n",
    "single_tuple=(1,)\n",
    "print(type(single_tuple))"
   ]
  },
  {
   "cell_type": "code",
   "execution_count": 24,
   "metadata": {},
   "outputs": [
    {
     "name": "stdout",
     "output_type": "stream",
     "text": [
      "(1, 2, 4, 5, 6, 2)\n"
     ]
    }
   ],
   "source": [
    "#tuple15\n",
    "my_list=[1, 2, 4, 5, 6, 2]\n",
    "my_tuple=tuple(my_list)\n",
    "print(my_tuple)"
   ]
  },
  {
   "cell_type": "code",
   "execution_count": 29,
   "metadata": {},
   "outputs": [
    {
     "name": "stdout",
     "output_type": "stream",
     "text": [
      "True\n"
     ]
    }
   ],
   "source": [
    "#tuple16\n",
    "my_tuple=(1, 2, 4, 5, 6)\n",
    "def is_sorted(tpl):\n",
    "    return tpl==tuple(sorted(tpl))\n",
    "print(is_sorted(my_tuple))"
   ]
  },
  {
   "cell_type": "code",
   "execution_count": 35,
   "metadata": {},
   "outputs": [
    {
     "name": "stdout",
     "output_type": "stream",
     "text": [
      "[12]\n"
     ]
    }
   ],
   "source": [
    "#tuple17\n",
    "my_tuple=(1, 12, 2, 4, 5, 6)\n",
    "def max_of_sub(tpl, start, end):\n",
    "    return [max(tpl[start:end])]\n",
    "print(max_of_sub(my_tuple, 0, 4))"
   ]
  },
  {
   "cell_type": "code",
   "execution_count": 38,
   "metadata": {},
   "outputs": [
    {
     "name": "stdout",
     "output_type": "stream",
     "text": [
      "[1]\n"
     ]
    }
   ],
   "source": [
    "#tuple18\n",
    "my_tuple=(1, 12, 2, 4, 5, 6)\n",
    "def min_of_sub(tpl, start, end):\n",
    "    return [min(tpl[start:end])]\n",
    "print(min_of_sub(my_tuple, 0, 4))"
   ]
  },
  {
   "cell_type": "code",
   "execution_count": 40,
   "metadata": {},
   "outputs": [
    {
     "name": "stdout",
     "output_type": "stream",
     "text": [
      "(1, 2, 4, 5, 6)\n"
     ]
    }
   ],
   "source": [
    "#tuple19\n",
    "my_tuple=(1, 12, 2, 4, 5, 6)\n",
    "def remove_element(tpl, el):\n",
    "    pos=tpl.index(el)\n",
    "    y=list(tpl)\n",
    "    y.pop(pos)\n",
    "    return tuple(y)\n",
    "print(remove_element(my_tuple, 12))"
   ]
  },
  {
   "cell_type": "code",
   "execution_count": 41,
   "metadata": {},
   "outputs": [
    {
     "name": "stdout",
     "output_type": "stream",
     "text": [
      "((1, 12), (2, 4), (5, 6))\n"
     ]
    }
   ],
   "source": [
    "#tuple20\n",
    "def tuple_nesting(tpl, size):\n",
    "    return tuple(tpl[i:i+size] for i in range(0, len(tpl), size))\n",
    "my_tuple=(1, 12, 2, 4, 5, 6)\n",
    "print(tuple_nesting(my_tuple, 2))"
   ]
  },
  {
   "cell_type": "code",
   "execution_count": null,
   "metadata": {},
   "outputs": [
    {
     "name": "stdout",
     "output_type": "stream",
     "text": [
      "(1, 12, 2, 4, 5, 6, 1, 12, 2, 4, 5, 6, 1, 12, 2, 4, 5, 6)\n"
     ]
    }
   ],
   "source": [
    "#tuple21\n",
    "def repeat_elements(tpl, n):\n",
    "    return tpl*n\n",
    "#if order is not important\n",
    "my_tuple=(1, 12, 2, 4, 5, 6)\n",
    "print(repeat_elements(my_tuple, 3))"
   ]
  },
  {
   "cell_type": "code",
   "execution_count": 43,
   "metadata": {},
   "outputs": [
    {
     "name": "stdout",
     "output_type": "stream",
     "text": [
      "(2, 4, 5)\n"
     ]
    }
   ],
   "source": [
    "#tuple22\n",
    "def range_tuple(tpl, smallest, largest):\n",
    "    y=[]\n",
    "    for i in tpl:\n",
    "        if i>=smallest and i<=largest:\n",
    "            y.append(i)\n",
    "    return tuple(y)\n",
    "my_tuple=(1, 12, 2, 4, 5, 6)\n",
    "print(range_tuple(my_tuple, 2, 5))"
   ]
  },
  {
   "cell_type": "code",
   "execution_count": null,
   "metadata": {},
   "outputs": [
    {
     "name": "stdout",
     "output_type": "stream",
     "text": [
      "<class 'tuple'>\n"
     ]
    }
   ],
   "source": [
    "#tuple23\n",
    "my_tuple=(1, 12, 2, 4, 5, 6)\n",
    "reverse_tuple=my_tuple[::-1]\n",
    "print(reverse_tuple)"
   ]
  },
  {
   "cell_type": "code",
   "execution_count": 47,
   "metadata": {},
   "outputs": [
    {
     "name": "stdout",
     "output_type": "stream",
     "text": [
      "(1, 12, 2, 4, 5, 6, 5, 4, 2, 12, 1) is palindrome: True\n"
     ]
    }
   ],
   "source": [
    "#tuple24\n",
    "def check_palindrome(tpl):\n",
    "    return tpl==tpl[::-1]\n",
    "my_tuple=(1, 12, 2, 4, 5, 6, 5, 4, 2, 12, 1)\n",
    "print(f\"{my_tuple} is palindrome: {check_palindrome(my_tuple)}\")"
   ]
  },
  {
   "cell_type": "code",
   "execution_count": 49,
   "metadata": {},
   "outputs": [
    {
     "name": "stdout",
     "output_type": "stream",
     "text": [
      "(1, 12, 2, 4, 5, 6)\n"
     ]
    }
   ],
   "source": [
    "#tuple25\n",
    "def get_unique_el(tpl):\n",
    "    seen=set()\n",
    "    y=[x for x in tpl if not(x in seen or seen.add(x))]\n",
    "    return tuple(y)\n",
    "my_tuple=(1, 12, 2, 4, 5, 6, 5, 4, 2, 12, 1)\n",
    "print(get_unique_el(my_tuple))"
   ]
  }
 ],
 "metadata": {
  "kernelspec": {
   "display_name": "Python 3",
   "language": "python",
   "name": "python3"
  },
  "language_info": {
   "codemirror_mode": {
    "name": "ipython",
    "version": 3
   },
   "file_extension": ".py",
   "mimetype": "text/x-python",
   "name": "python",
   "nbconvert_exporter": "python",
   "pygments_lexer": "ipython3",
   "version": "3.12.9"
  }
 },
 "nbformat": 4,
 "nbformat_minor": 2
}
