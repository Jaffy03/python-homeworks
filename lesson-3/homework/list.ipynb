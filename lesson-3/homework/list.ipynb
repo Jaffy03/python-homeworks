{
 "cells": [
  {
   "cell_type": "code",
   "execution_count": null,
   "metadata": {},
   "outputs": [
    {
     "name": "stdout",
     "output_type": "stream",
     "text": [
      "apple occured 2 times\n"
     ]
    }
   ],
   "source": [
    "#list1\n",
    "def occurence_count(element,list_name ):\n",
    "    return list_name.count(element)\n",
    "\n",
    "my_list = ['apple', 'banana', 'peach', 'apple']\n",
    "element='apple'\n",
    "#This code calls a function and performs operation and returns number of occurences\n",
    "\n",
    "frequency=occurence_count(element, my_list)\n",
    "print(f\"{element} occured {frequency} times\")"
   ]
  },
  {
   "cell_type": "code",
   "execution_count": 2,
   "metadata": {},
   "outputs": [
    {
     "name": "stdout",
     "output_type": "stream",
     "text": [
      "Sum of the numbers in a list: 443\n"
     ]
    }
   ],
   "source": [
    "#list2\n",
    "def is_numeric_list(list_name):\n",
    "    return all(type(item) in (int, float) for item in list_name)\n",
    "\n",
    "def list_sum(list_name):\n",
    "    sum=0\n",
    "    for i in list_name:\n",
    "        sum+=i\n",
    "    return sum\n",
    "my_list=[1, 23, 43, 231, 145]\n",
    "#this code uses function to sum all the numbers in the list, given that it only contains float, int data types\n",
    "if is_numeric_list(my_list):\n",
    "    sum=list_sum(my_list)\n",
    "    print(f\"Sum of the numbers in a list: {sum}\")\n",
    "else:\n",
    "    print(\"List must contain only numbers\")"
   ]
  },
  {
   "cell_type": "code",
   "execution_count": null,
   "metadata": {},
   "outputs": [
    {
     "name": "stdout",
     "output_type": "stream",
     "text": [
      "Largest value in a list 231\n"
     ]
    }
   ],
   "source": [
    "#list3\n",
    "def is_numeric_list(list_name):\n",
    "    return all(type(item) in (int, float) for item in list_name)\n",
    "my_list=[1, 23, 43, 231, 145]\n",
    "\n",
    "#first checks if list is all numbers, then finds a max in a list\n",
    "\n",
    "if is_numeric_list(my_list):\n",
    "    max_num=max(my_list)\n",
    "    print(f\"Largest value in a list {max_num}\")\n",
    "else:\n",
    "    print(\"List must contain only numbers\")"
   ]
  },
  {
   "cell_type": "code",
   "execution_count": 4,
   "metadata": {},
   "outputs": [
    {
     "name": "stdout",
     "output_type": "stream",
     "text": [
      "Smallest value in a list 1\n"
     ]
    }
   ],
   "source": [
    "#list4\n",
    "def is_numeric_list(list_name):\n",
    "    return all(type(item) in (int, float) for item in list_name)\n",
    "my_list=[1, 23, 43, 231, 145]\n",
    "\n",
    "#first checks if list is all numbers, then finds a min in a list\n",
    "\n",
    "if is_numeric_list(my_list):\n",
    "    min_num=min(my_list)\n",
    "    print(f\"Smallest value in a list {min_num}\")\n",
    "else:\n",
    "    print(\"List must contain only numbers\")"
   ]
  },
  {
   "cell_type": "code",
   "execution_count": 5,
   "metadata": {},
   "outputs": [
    {
     "name": "stdout",
     "output_type": "stream",
     "text": [
      "The element was found\n"
     ]
    }
   ],
   "source": [
    "#list5\n",
    "def check_list(element,list_name ):\n",
    "    element_count=list_name.count(element)\n",
    "    if element_count==0:\n",
    "        return False\n",
    "    else:\n",
    "        return True\n",
    "\n",
    "my_list = ['apple', 'banana', 'peach', 'apple']\n",
    "#this code uses occurence count occurence of a value from a list and if its 0, gives false\n",
    "element='apple'\n",
    "if check_list(element, my_list):\n",
    "    print(\"The element was found\")\n",
    "else:\n",
    "    print(\"It was not found\")"
   ]
  },
  {
   "cell_type": "code",
   "execution_count": 48,
   "metadata": {},
   "outputs": [
    {
     "name": "stdout",
     "output_type": "stream",
     "text": [
      "First element in a list is apple\n"
     ]
    }
   ],
   "source": [
    "#list6\n",
    "my_list = ['apple', 'banana', 'potato']\n",
    "\n",
    "if my_list:\n",
    "    print(f\"First element in a list is {my_list[0]}\")\n",
    "else:\n",
    "    print(\"The list is empty\")"
   ]
  },
  {
   "cell_type": "code",
   "execution_count": 47,
   "metadata": {},
   "outputs": [
    {
     "name": "stdout",
     "output_type": "stream",
     "text": [
      "Last element in a list is potato\n"
     ]
    }
   ],
   "source": [
    "#list7\n",
    "my_list = ['apple', 'banana', 'potato']\n",
    "\n",
    "if my_list:\n",
    "    print(f\"Last element in a list is {my_list[-1]}\")\n",
    "else:\n",
    "    print(\"The list is empty\")"
   ]
  },
  {
   "cell_type": "code",
   "execution_count": 46,
   "metadata": {},
   "outputs": [
    {
     "name": "stdout",
     "output_type": "stream",
     "text": [
      "apple\n",
      "banana\n",
      "potato\n"
     ]
    }
   ],
   "source": [
    "#list8\n",
    "my_list = ['apple', 'banana', 'potato', 'tomato']\n",
    "new_list=my_list[0:3]\n",
    "for i in new_list:\n",
    "    print(i)"
   ]
  },
  {
   "cell_type": "code",
   "execution_count": 45,
   "metadata": {},
   "outputs": [
    {
     "name": "stdout",
     "output_type": "stream",
     "text": [
      "['tomato', 'potato', 'banana', 'apple']\n"
     ]
    }
   ],
   "source": [
    "#list9\n",
    "my_list = ['apple', 'banana', 'potato', 'tomato']\n",
    "new_list=my_list[::-1]\n",
    "print(new_list)"
   ]
  },
  {
   "cell_type": "code",
   "execution_count": 44,
   "metadata": {},
   "outputs": [
    {
     "name": "stdout",
     "output_type": "stream",
     "text": [
      "['apple', 'banana', 'grapes', 'potato', 'tomato']\n"
     ]
    }
   ],
   "source": [
    "#list10\n",
    "my_list = ['apple', 'banana', 'potato', 'tomato', 'grapes']\n",
    "new_list=sorted(my_list)\n",
    "print(new_list)"
   ]
  },
  {
   "cell_type": "code",
   "execution_count": 43,
   "metadata": {},
   "outputs": [
    {
     "name": "stdout",
     "output_type": "stream",
     "text": [
      "['apple', 'grapes', 'potato', 'tomato', 'banana']\n"
     ]
    }
   ],
   "source": [
    "#list11\n",
    "my_list = ['apple', 'banana', 'potato', 'tomato', 'grapes', 'apple']\n",
    "new_list=list(set(my_list))\n",
    "print(new_list)\n",
    "#fastest, but order changes"
   ]
  },
  {
   "cell_type": "code",
   "execution_count": 42,
   "metadata": {},
   "outputs": [
    {
     "name": "stdout",
     "output_type": "stream",
     "text": [
      "['apple', 'banana', 'grapes', 'peach', 'apple']\n"
     ]
    }
   ],
   "source": [
    "#list12\n",
    "my_list = ['apple', 'banana', 'peach', 'apple']\n",
    "element='grapes'\n",
    "my_list.insert(2, element)\n",
    "print(my_list)"
   ]
  },
  {
   "cell_type": "code",
   "execution_count": 39,
   "metadata": {},
   "outputs": [
    {
     "name": "stdout",
     "output_type": "stream",
     "text": [
      "apple first occured in the position 0\n"
     ]
    }
   ],
   "source": [
    "#list13\n",
    "my_list = ['apple', 'banana', 'peach', 'apple']\n",
    "element='apple'\n",
    "location=my_list.index(element)\n",
    "print(f\"{element} first occured in the position {location}\")"
   ]
  },
  {
   "cell_type": "code",
   "execution_count": 38,
   "metadata": {},
   "outputs": [
    {
     "name": "stdout",
     "output_type": "stream",
     "text": [
      "The list is not empty\n"
     ]
    }
   ],
   "source": [
    "#list14\n",
    "my_list = ['apple', 'banana', 'potato']\n",
    "\n",
    "if my_list:\n",
    "    print(\"The list is not empty\")\n",
    "else:\n",
    "    print(\"The list is empty\")"
   ]
  },
  {
   "cell_type": "code",
   "execution_count": 37,
   "metadata": {},
   "outputs": [
    {
     "name": "stdout",
     "output_type": "stream",
     "text": [
      "Even numbers occured 3 times\n"
     ]
    }
   ],
   "source": [
    "#list15\n",
    "my_list=[1, 23, 43, 231, 145, 24, 1452, 20, 0]\n",
    "\n",
    "count=0\n",
    "\n",
    "for i in my_list:\n",
    "    if i%2==0 and i!=0:\n",
    "        count+=1\n",
    "print(f\"Even numbers occured {count} times\")\n"
   ]
  },
  {
   "cell_type": "code",
   "execution_count": 36,
   "metadata": {},
   "outputs": [
    {
     "name": "stdout",
     "output_type": "stream",
     "text": [
      "Odd numbers occured 5 times\n"
     ]
    }
   ],
   "source": [
    "#list16\n",
    "my_list=[1, 23, 43, 231, 145, 24, 1452, 20, 0]\n",
    "\n",
    "count=0\n",
    "\n",
    "for i in my_list:\n",
    "    if i%2!=0 and i!=0:\n",
    "        count+=1\n",
    "print(f\"Odd numbers occured {count} times\")"
   ]
  },
  {
   "cell_type": "code",
   "execution_count": 35,
   "metadata": {},
   "outputs": [
    {
     "name": "stdout",
     "output_type": "stream",
     "text": [
      "[1, 14, 21, 24, 23, 21, 25]\n"
     ]
    }
   ],
   "source": [
    "#list17\n",
    "list1=[1, 14, 21, 24]\n",
    "list2=[23, 21, 25]\n",
    "list3=list1+list2\n",
    "print(list3)"
   ]
  },
  {
   "cell_type": "code",
   "execution_count": 34,
   "metadata": {},
   "outputs": [
    {
     "name": "stdout",
     "output_type": "stream",
     "text": [
      "False\n"
     ]
    }
   ],
   "source": [
    "#list18\n",
    "list1=[1, 4, 5, 7]\n",
    "list2=[4, 7, 5]\n",
    "def is_sublist(main, sub):\n",
    "    for i in range(len(main)-len(sub)+1):\n",
    "        if main[i:i+len(sub)]==sub:\n",
    "            return True\n",
    "    return False\n",
    "print(is_sublist(list1, list2))"
   ]
  },
  {
   "cell_type": "code",
   "execution_count": 33,
   "metadata": {},
   "outputs": [
    {
     "name": "stdout",
     "output_type": "stream",
     "text": [
      "['raddish', 'banana', 'carrot']\n"
     ]
    }
   ],
   "source": [
    "#list19\n",
    "my_list=['apple', 'banana', 'carrot']\n",
    "element='apple'\n",
    "element_replace='raddish'\n",
    "\n",
    "def replace(list_name, element, new_element):\n",
    "    #idea is to find index of an element, then delete that element, and replace with new\n",
    "    pos=list_name.index(element)\n",
    "    list_name.remove(element)\n",
    "    list_name.insert(pos, new_element)\n",
    "\n",
    "replace(my_list, element, element_replace)\n",
    "print(my_list)"
   ]
  },
  {
   "cell_type": "code",
   "execution_count": 32,
   "metadata": {},
   "outputs": [
    {
     "name": "stdout",
     "output_type": "stream",
     "text": [
      "second largest in a list 25\n"
     ]
    }
   ],
   "source": [
    "#list20\n",
    "my_list=[1, 4, 24, 144, 3, 25]\n",
    "def second_largest(list_name):\n",
    "    sort_list=sorted(list_name)\n",
    "    if len(sort_list)<2:\n",
    "        return None\n",
    "    else:\n",
    "        return sort_list[-2]\n",
    "\n",
    "print(f\"second largest in a list {second_largest(my_list)}\")"
   ]
  },
  {
   "cell_type": "code",
   "execution_count": 31,
   "metadata": {},
   "outputs": [
    {
     "name": "stdout",
     "output_type": "stream",
     "text": [
      "second smallest in a list 3\n"
     ]
    }
   ],
   "source": [
    "#list21\n",
    "my_list=[1, 4, 24, 144, 3, 25]\n",
    "def second_smallest(list_name):\n",
    "    sort_list=sorted(list_name)\n",
    "    if len(sort_list)<2:\n",
    "        return None\n",
    "    else:\n",
    "        return sort_list[1]\n",
    "\n",
    "print(f\"second smallest in a list {second_smallest(my_list)}\")"
   ]
  },
  {
   "cell_type": "code",
   "execution_count": 30,
   "metadata": {},
   "outputs": [
    {
     "name": "stdout",
     "output_type": "stream",
     "text": [
      "[4, 24, 144, 22]\n"
     ]
    }
   ],
   "source": [
    "#list22\n",
    "my_list=[1, 4, 24, 144, 3, 25, 22]\n",
    "def even_list(new_list):\n",
    "    even_list=[]\n",
    "    for i in new_list:\n",
    "        if i%2==0 and i!=0:\n",
    "            even_list.append(i)\n",
    "    return even_list\n",
    "\n",
    "print(even_list(my_list))"
   ]
  },
  {
   "cell_type": "code",
   "execution_count": 29,
   "metadata": {},
   "outputs": [
    {
     "name": "stdout",
     "output_type": "stream",
     "text": [
      "[1, 3, 25]\n"
     ]
    }
   ],
   "source": [
    "#list23\n",
    "my_list=[1, 4, 24, 144, 3, 25, 22]\n",
    "def odd_list(new_list):\n",
    "    odd_list=[]\n",
    "    for i in new_list:\n",
    "        if i%2!=0 and i!=0:\n",
    "            odd_list.append(i)\n",
    "    return odd_list\n",
    "\n",
    "print(odd_list(my_list))"
   ]
  },
  {
   "cell_type": "code",
   "execution_count": 28,
   "metadata": {},
   "outputs": [
    {
     "name": "stdout",
     "output_type": "stream",
     "text": [
      "Number of items in the list: 7\n"
     ]
    }
   ],
   "source": [
    "#list24\n",
    "my_list=[1, 4, 24, 144, 3, 25, 22]\n",
    "print(f\"Number of items in the list: {len(my_list)}\")"
   ]
  },
  {
   "cell_type": "code",
   "execution_count": 27,
   "metadata": {},
   "outputs": [
    {
     "name": "stdout",
     "output_type": "stream",
     "text": [
      "[1, 4, 24, 144, 3, 25, 22]\n"
     ]
    }
   ],
   "source": [
    "#list25\n",
    "my_list=[1, 4, 24, 144, 3, 25, 22]\n",
    "copied_list=my_list.copy()\n",
    "print(copied_list)"
   ]
  },
  {
   "cell_type": "code",
   "execution_count": 26,
   "metadata": {},
   "outputs": [
    {
     "name": "stdout",
     "output_type": "stream",
     "text": [
      "144\n"
     ]
    }
   ],
   "source": [
    "#list26\n",
    "my_list=[1, 4, 24, 144, 3, 25, 27]\n",
    "def middle_element(lst):\n",
    "    length=len(lst)\n",
    "    if length%2==0:\n",
    "        return [lst[int(length/2)-1], lst[int(length/2)]]\n",
    "    else:\n",
    "        return lst[int(length/2)]\n",
    "print(middle_element(my_list))"
   ]
  },
  {
   "cell_type": "code",
   "execution_count": 25,
   "metadata": {},
   "outputs": [
    {
     "name": "stdout",
     "output_type": "stream",
     "text": [
      "5\n"
     ]
    }
   ],
   "source": [
    "#list27\n",
    "list1=[1, 4, 5, 7]\n",
    "def max_sub(lst, start, end):\n",
    "    return max(lst[start:end] if lst[start:end] else None)\n",
    "print(max_sub(list1, 0, 3 ))"
   ]
  },
  {
   "cell_type": "code",
   "execution_count": 24,
   "metadata": {},
   "outputs": [
    {
     "name": "stdout",
     "output_type": "stream",
     "text": [
      "4\n"
     ]
    }
   ],
   "source": [
    "#list28\n",
    "list1=[1, 4, 5, 7]\n",
    "def min_sub(lst, start, end):\n",
    "    return min(lst[start:end] if lst[start:end] else None)\n",
    "print(min_sub(list1, 1, 4 ))"
   ]
  },
  {
   "cell_type": "code",
   "execution_count": 23,
   "metadata": {},
   "outputs": [
    {
     "name": "stdout",
     "output_type": "stream",
     "text": [
      "[1, 4, 24, 3, 25, 27]\n"
     ]
    }
   ],
   "source": [
    "#list29\n",
    "my_list=[1, 4, 24, 144, 3, 25, 27]\n",
    "def remove_index(lst, index):\n",
    "    if lst:\n",
    "        lst.pop(index)\n",
    "        return lst\n",
    "    else:\n",
    "        return None\n",
    "print(remove_index(my_list, 3))"
   ]
  },
  {
   "cell_type": "code",
   "execution_count": 22,
   "metadata": {},
   "outputs": [
    {
     "name": "stdout",
     "output_type": "stream",
     "text": [
      "True\n"
     ]
    }
   ],
   "source": [
    "#list30\n",
    "my_list=[1, 4, 24, 144]\n",
    "\n",
    "def if_sorted(lst):\n",
    "    sorted_list=sorted(lst)\n",
    "    if sorted_list==lst:\n",
    "        return True\n",
    "    else:\n",
    "        return False\n",
    "\n",
    "print(if_sorted(my_list))"
   ]
  },
  {
   "cell_type": "code",
   "execution_count": 21,
   "metadata": {},
   "outputs": [
    {
     "name": "stdout",
     "output_type": "stream",
     "text": [
      "[1, 1, 1, 4, 4, 4, 24, 24, 24, 144, 144, 144, 3, 3, 3, 25, 25, 25, 27, 27, 27]\n"
     ]
    }
   ],
   "source": [
    "#list31\n",
    "my_list=[1, 4, 24, 144, 3, 25, 27]\n",
    "\n",
    "def rep_el(lst, num):\n",
    "    new_list=[]\n",
    "    for i in lst:\n",
    "        new_list.extend([i]*num)\n",
    "    return new_list\n",
    "print(rep_el(my_list, 3))"
   ]
  },
  {
   "cell_type": "code",
   "execution_count": 20,
   "metadata": {},
   "outputs": [
    {
     "name": "stdout",
     "output_type": "stream",
     "text": [
      "[1, 3, 3, 4, 5, 6, 11, 12, 14, 21, 24, 25, 27, 144]\n"
     ]
    }
   ],
   "source": [
    "#list32\n",
    "list1=[1, 4, 24, 144, 3, 25, 27]\n",
    "list2=[3, 5, 21, 14, 6, 11, 12]\n",
    "def merge_sort(list1, list2):\n",
    "    list1.extend(list2)\n",
    "    return sorted(list1)\n",
    "print(merge_sort(list1, list2))"
   ]
  },
  {
   "cell_type": "code",
   "execution_count": 19,
   "metadata": {},
   "outputs": [
    {
     "name": "stdout",
     "output_type": "stream",
     "text": [
      "3\n"
     ]
    }
   ],
   "source": [
    "#list33\n",
    "my_list=[1, 4, 24, 144, 3, 25, 27, 24, 12, 24]\n",
    "\n",
    "def indices(lst, element):\n",
    "    indices=0\n",
    "    for i in lst:\n",
    "        if i==element:\n",
    "            indices+=1\n",
    "    return indices\n",
    "print(indices(my_list, 24))"
   ]
  },
  {
   "cell_type": "code",
   "execution_count": 18,
   "metadata": {},
   "outputs": [
    {
     "name": "stdout",
     "output_type": "stream",
     "text": [
      "[27, 1, 4, 24, 144, 3, 25]\n"
     ]
    }
   ],
   "source": [
    "#list34\n",
    "my_list=[1, 4, 24, 144, 3, 25, 27]\n",
    "def list_shift(lst):\n",
    "    if not lst:\n",
    "        return []\n",
    "    return [lst[-1]] + lst[:-1]\n",
    "print(list_shift(my_list))    "
   ]
  },
  {
   "cell_type": "code",
   "execution_count": 17,
   "metadata": {},
   "outputs": [
    {
     "name": "stdout",
     "output_type": "stream",
     "text": [
      "[1, 4, 24, 3, 25]\n"
     ]
    }
   ],
   "source": [
    "#list35\n",
    "my_list=[1, 4, 24, 144, 3, 25, 27]\n",
    "\n",
    "def range_list(lst, start, end):\n",
    "    range_list=[]\n",
    "    for i in lst:\n",
    "        if i>= start and i<=end:\n",
    "            range_list.append(i)\n",
    "    return range_list\n",
    "print(range_list(my_list, 1, 25))"
   ]
  },
  {
   "cell_type": "code",
   "execution_count": 16,
   "metadata": {},
   "outputs": [
    {
     "name": "stdout",
     "output_type": "stream",
     "text": [
      "57\n"
     ]
    }
   ],
   "source": [
    "#list36\n",
    "my_list=[1, 4, 24, -144, 3, 25, -27]\n",
    "def positive_sum(lst):\n",
    "    sum=0\n",
    "    for i in lst:\n",
    "        if i>0:\n",
    "            sum+=i\n",
    "    return sum\n",
    "print(positive_sum(my_list))"
   ]
  },
  {
   "cell_type": "code",
   "execution_count": 15,
   "metadata": {},
   "outputs": [
    {
     "name": "stdout",
     "output_type": "stream",
     "text": [
      "-171\n"
     ]
    }
   ],
   "source": [
    "#list37\n",
    "my_list=[1, 4, 24, -144, 3, 25, -27]\n",
    "def negative_sum(lst):\n",
    "    sum=0\n",
    "    for i in lst:\n",
    "        if i<0:\n",
    "            sum+=i\n",
    "    return sum\n",
    "print(negative_sum(my_list))"
   ]
  },
  {
   "cell_type": "code",
   "execution_count": 5,
   "metadata": {},
   "outputs": [
    {
     "name": "stdout",
     "output_type": "stream",
     "text": [
      "True\n"
     ]
    }
   ],
   "source": [
    "#list38\n",
    "def is_palindrome(lst):\n",
    "    if lst==lst[::-1]:\n",
    "        return True\n",
    "    return False\n",
    "my_list=[1, 4, 24, 24, 4, 1]\n",
    "print(is_palindrome(my_list))"
   ]
  },
  {
   "cell_type": "code",
   "execution_count": null,
   "metadata": {},
   "outputs": [
    {
     "name": "stdout",
     "output_type": "stream",
     "text": [
      "[[1, 4, 24], [24, 4, 1]]\n"
     ]
    }
   ],
   "source": [
    "#list39\n",
    "def list_nesting(lst, n):\n",
    "    return [lst[i:i+n] for i in range(0, len(lst), n)]\n",
    "my_list=[1, 4, 24, 24, 4, 1]\n",
    "print(list_nesting(my_list, 3))"
   ]
  },
  {
   "cell_type": "code",
   "execution_count": 14,
   "metadata": {},
   "outputs": [
    {
     "name": "stdout",
     "output_type": "stream",
     "text": [
      "[1, 4, 24]\n"
     ]
    }
   ],
   "source": [
    "#list40\n",
    "def unique_list(lst):\n",
    "    seen=set()\n",
    "    return [x for x in lst if not(x in seen or seen.add(x))]\n",
    "my_list=[1, 4, 24, 24, 4, 1]\n",
    "print(unique_list(my_list))            \n",
    "    \n",
    "    "
   ]
  }
 ],
 "metadata": {
  "kernelspec": {
   "display_name": "Python 3",
   "language": "python",
   "name": "python3"
  },
  "language_info": {
   "codemirror_mode": {
    "name": "ipython",
    "version": 3
   },
   "file_extension": ".py",
   "mimetype": "text/x-python",
   "name": "python",
   "nbconvert_exporter": "python",
   "pygments_lexer": "ipython3",
   "version": "3.12.9"
  }
 },
 "nbformat": 4,
 "nbformat_minor": 2
}
