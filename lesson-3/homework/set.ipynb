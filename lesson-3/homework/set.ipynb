{
 "cells": [
  {
   "cell_type": "code",
   "execution_count": null,
   "metadata": {},
   "outputs": [
    {
     "name": "stdout",
     "output_type": "stream",
     "text": [
      "{1, 2, 3, 4, 5}\n"
     ]
    }
   ],
   "source": [
    "#set1\n",
    "set1={1, 2, 3}\n",
    "set2={2, 4, 5}\n",
    "union_set=set1.union(set2)\n",
    "print(union_set)"
   ]
  },
  {
   "cell_type": "code",
   "execution_count": 2,
   "metadata": {},
   "outputs": [
    {
     "name": "stdout",
     "output_type": "stream",
     "text": [
      "{2}\n"
     ]
    }
   ],
   "source": [
    "#set2\n",
    "set1={1, 2, 3}\n",
    "set2={2, 4, 5}\n",
    "intersection_set=set1.intersection(set2)\n",
    "print(intersection_set)"
   ]
  },
  {
   "cell_type": "code",
   "execution_count": 3,
   "metadata": {},
   "outputs": [
    {
     "name": "stdout",
     "output_type": "stream",
     "text": [
      "{1, 3}\n"
     ]
    }
   ],
   "source": [
    "#set3 \n",
    "set1={1, 2, 3}\n",
    "set2={2, 4, 5}\n",
    "difference_set=set1.difference(set2)\n",
    "print(difference_set)"
   ]
  },
  {
   "cell_type": "code",
   "execution_count": 6,
   "metadata": {},
   "outputs": [
    {
     "name": "stdout",
     "output_type": "stream",
     "text": [
      "True\n"
     ]
    }
   ],
   "source": [
    "#set4\n",
    "set1={1, 2, 3}\n",
    "set2={2, 3}\n",
    "def check_subset(set1, set2):\n",
    "    if set2.issubset(set1):\n",
    "        return True\n",
    "    else:\n",
    "        return False\n",
    "print(check_subset(set1, set2))"
   ]
  },
  {
   "cell_type": "code",
   "execution_count": 8,
   "metadata": {},
   "outputs": [
    {
     "name": "stdout",
     "output_type": "stream",
     "text": [
      "False\n"
     ]
    }
   ],
   "source": [
    "#set5\n",
    "set1={1, 2, 3}\n",
    "el=4\n",
    "def check_el(st, el):\n",
    "    if el in st:\n",
    "        return True\n",
    "    else:\n",
    "        return False\n",
    "print(check_el(set1, el))"
   ]
  },
  {
   "cell_type": "code",
   "execution_count": 10,
   "metadata": {},
   "outputs": [
    {
     "name": "stdout",
     "output_type": "stream",
     "text": [
      "4\n"
     ]
    }
   ],
   "source": [
    "#set6\n",
    "my_set={1, 2, 2, 4, 4, 4, 4, 4, 5}\n",
    "print(len(my_set))"
   ]
  },
  {
   "cell_type": "code",
   "execution_count": 11,
   "metadata": {},
   "outputs": [
    {
     "name": "stdout",
     "output_type": "stream",
     "text": [
      "{1, 2, 4, 5}\n"
     ]
    }
   ],
   "source": [
    "#set7\n",
    "my_list=[1, 2, 2, 4, 4, 4, 4, 4, 5]\n",
    "my_set=set(my_list)\n",
    "print(my_set)"
   ]
  },
  {
   "cell_type": "code",
   "execution_count": 12,
   "metadata": {},
   "outputs": [
    {
     "name": "stdout",
     "output_type": "stream",
     "text": [
      "{1, 2, 5}\n"
     ]
    }
   ],
   "source": [
    "#set8\n",
    "my_set={1, 2, 2, 4, 4, 4, 4, 4, 5}\n",
    "my_set.remove(4)\n",
    "print(my_set)"
   ]
  },
  {
   "cell_type": "code",
   "execution_count": 14,
   "metadata": {},
   "outputs": [
    {
     "name": "stdout",
     "output_type": "stream",
     "text": [
      "set()\n"
     ]
    }
   ],
   "source": [
    "#set9\n",
    "my_set={1, 2, 2, 4, 4, 4, 4, 4, 5}\n",
    "my_set.clear()\n",
    "print(my_set)"
   ]
  },
  {
   "cell_type": "code",
   "execution_count": 16,
   "metadata": {},
   "outputs": [
    {
     "name": "stdout",
     "output_type": "stream",
     "text": [
      "empty\n"
     ]
    }
   ],
   "source": [
    "#set10\n",
    "my_set={}\n",
    "if my_set:\n",
    "    print(\"not empty\")\n",
    "else:\n",
    "    print(\"empty\")"
   ]
  },
  {
   "cell_type": "code",
   "execution_count": 17,
   "metadata": {},
   "outputs": [
    {
     "name": "stdout",
     "output_type": "stream",
     "text": [
      "{1, 3, 4, 5}\n"
     ]
    }
   ],
   "source": [
    "#set11\n",
    "set1={1, 2, 3}\n",
    "set2={2, 4, 5}\n",
    "new_set=set1^set2\n",
    "print(new_set)"
   ]
  },
  {
   "cell_type": "code",
   "execution_count": 18,
   "metadata": {},
   "outputs": [
    {
     "name": "stdout",
     "output_type": "stream",
     "text": [
      "{1, 2, 3, 4, 5}\n"
     ]
    }
   ],
   "source": [
    "#set12\n",
    "def add_to_set(st, el):\n",
    "    if el not in st:\n",
    "        st.add(el)\n",
    "    return st\n",
    "my_set={1, 2, 4, 5}\n",
    "print(add_to_set(my_set, 3))"
   ]
  },
  {
   "cell_type": "code",
   "execution_count": 23,
   "metadata": {},
   "outputs": [
    {
     "name": "stdout",
     "output_type": "stream",
     "text": [
      "{1, 2, 4, 5}\n"
     ]
    }
   ],
   "source": [
    "#set13\n",
    "my_set={0, 1, 2, 4, 5}\n",
    "my_set.pop()\n",
    "print(my_set)"
   ]
  },
  {
   "cell_type": "code",
   "execution_count": 25,
   "metadata": {},
   "outputs": [
    {
     "name": "stdout",
     "output_type": "stream",
     "text": [
      "5\n"
     ]
    }
   ],
   "source": [
    "#set14\n",
    "my_set={0, 1, 2, 2, 4, 5}\n",
    "max_val=max(my_set)\n",
    "print(max_val)"
   ]
  },
  {
   "cell_type": "code",
   "execution_count": 26,
   "metadata": {},
   "outputs": [
    {
     "name": "stdout",
     "output_type": "stream",
     "text": [
      "0\n"
     ]
    }
   ],
   "source": [
    "#set15\n",
    "my_set={0, 1, 2, 2, 4, 5}\n",
    "min_val=min(my_set)\n",
    "print(min_val)"
   ]
  },
  {
   "cell_type": "code",
   "execution_count": 29,
   "metadata": {},
   "outputs": [
    {
     "name": "stdout",
     "output_type": "stream",
     "text": [
      "{2, 4}\n"
     ]
    }
   ],
   "source": [
    "#set16\n",
    "def even_set(st):\n",
    "    new_set=set()\n",
    "    for i in st:\n",
    "        if i%2==0 and i!=0:\n",
    "            new_set.add(i)\n",
    "    return new_set\n",
    "my_set={0, 1, 2, 3, 4, 5}\n",
    "print(even_set(my_set))"
   ]
  },
  {
   "cell_type": "code",
   "execution_count": 28,
   "metadata": {},
   "outputs": [
    {
     "name": "stdout",
     "output_type": "stream",
     "text": [
      "{1, 3, 5}\n"
     ]
    }
   ],
   "source": [
    "#set17\n",
    "def odd_set(st):\n",
    "    new_set=set()\n",
    "    for i in st:\n",
    "        if i%2!=0 and i!=0:\n",
    "            new_set.add(i)\n",
    "    return new_set\n",
    "my_set={0, 1, 2, 3, 4, 5}\n",
    "print(odd_set(my_set))"
   ]
  },
  {
   "cell_type": "code",
   "execution_count": 30,
   "metadata": {},
   "outputs": [
    {
     "name": "stdout",
     "output_type": "stream",
     "text": [
      "{2, 3, 4}\n"
     ]
    }
   ],
   "source": [
    "#set18\n",
    "def range_set(st, smallest, largest):\n",
    "    new_set=set()\n",
    "    for i in st:\n",
    "        if i>=smallest and i<=largest:\n",
    "            new_set.add(i)\n",
    "    return new_set\n",
    "my_set={0, 1, 2, 3, 4, 5}\n",
    "print(range_set(my_set, 2, 4))"
   ]
  },
  {
   "cell_type": "code",
   "execution_count": 32,
   "metadata": {},
   "outputs": [
    {
     "name": "stdout",
     "output_type": "stream",
     "text": [
      "{1, 2, 3, 4, 5, 6, 7, 8}\n"
     ]
    }
   ],
   "source": [
    "#set19\n",
    "list1=[1, 2, 3, 4, 5]\n",
    "list2=[4, 5, 6, 7, 8]\n",
    "x=set(list1)\n",
    "y=set(list2)\n",
    "new_set=x|y\n",
    "print(new_set)"
   ]
  },
  {
   "cell_type": "code",
   "execution_count": 35,
   "metadata": {},
   "outputs": [
    {
     "name": "stdout",
     "output_type": "stream",
     "text": [
      "No elements in common\n"
     ]
    }
   ],
   "source": [
    "#set20\n",
    "set1={1, 2, 3}\n",
    "set2={4, 5}\n",
    "if set1.isdisjoint(set2):\n",
    "    print(\"No elements in common\")\n",
    "else:\n",
    "    print(\"There are common elements\")\n",
    "\n"
   ]
  },
  {
   "cell_type": "code",
   "execution_count": 37,
   "metadata": {},
   "outputs": [
    {
     "name": "stdout",
     "output_type": "stream",
     "text": [
      "[1, 2, 3, 4, 5]\n"
     ]
    }
   ],
   "source": [
    "#set21\n",
    "lst=[1, 2, 3, 3, 3, 3, 3, 2, 1, 4, 5]\n",
    "temp_set=set(lst)\n",
    "lst=list(temp_set)\n",
    "print(lst)"
   ]
  },
  {
   "cell_type": "code",
   "execution_count": 38,
   "metadata": {},
   "outputs": [
    {
     "name": "stdout",
     "output_type": "stream",
     "text": [
      "This set contains 5 unique elements\n"
     ]
    }
   ],
   "source": [
    "#set22\n",
    "lst=[1, 2, 3, 3, 3, 3, 3, 2, 1, 4, 5]\n",
    "temp_set=set(lst)\n",
    "print(f\"This set contains {len(temp_set)} unique elements\")\n"
   ]
  },
  {
   "cell_type": "code",
   "execution_count": 43,
   "metadata": {},
   "outputs": [
    {
     "name": "stdout",
     "output_type": "stream",
     "text": [
      "{64, 67, 41, 74, 44, 48, 17, 54, 22, 91}\n"
     ]
    }
   ],
   "source": [
    "#set23\n",
    "import random\n",
    "def gen_random_set(size, start, end):\n",
    "    if size>(end-start+1):\n",
    "        print(\"Not enough unique numbers in the range\")\n",
    "        return None\n",
    "    return set(random.sample(range(start, end+1), size))\n",
    "print(gen_random_set(10, 2, 100))"
   ]
  }
 ],
 "metadata": {
  "kernelspec": {
   "display_name": "Python 3",
   "language": "python",
   "name": "python3"
  },
  "language_info": {
   "codemirror_mode": {
    "name": "ipython",
    "version": 3
   },
   "file_extension": ".py",
   "mimetype": "text/x-python",
   "name": "python",
   "nbconvert_exporter": "python",
   "pygments_lexer": "ipython3",
   "version": "3.12.9"
  }
 },
 "nbformat": 4,
 "nbformat_minor": 2
}
