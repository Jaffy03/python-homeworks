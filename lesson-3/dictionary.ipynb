{
 "cells": [
  {
   "cell_type": "code",
   "execution_count": null,
   "metadata": {},
   "outputs": [
    {
     "name": "stdout",
     "output_type": "stream",
     "text": [
      "Key not found\n"
     ]
    }
   ],
   "source": [
    "#dictionary1\n",
    "my_dict={\n",
    "    'brand': \"Ford\",\n",
    "    'model': \"Mustang\",\n",
    "    \"year\": 1964\n",
    "}\n",
    "def get_value(dic, key):\n",
    "    return dic[key] if key in dic else \"Key not found\"\n",
    "print(get_value(my_dict, \"type\"))"
   ]
  },
  {
   "cell_type": "code",
   "execution_count": 8,
   "metadata": {},
   "outputs": [
    {
     "name": "stdout",
     "output_type": "stream",
     "text": [
      "True\n"
     ]
    }
   ],
   "source": [
    "#dictionary2\n",
    "my_dict={\n",
    "    'brand': \"Ford\",\n",
    "    'model': \"Mustang\",\n",
    "    \"year\": 1964\n",
    "}\n",
    "def check_key(dic, key):\n",
    "    return True if key in dic else False\n",
    "print(check_key(my_dict, \"brand\"))"
   ]
  },
  {
   "cell_type": "code",
   "execution_count": 11,
   "metadata": {},
   "outputs": [
    {
     "name": "stdout",
     "output_type": "stream",
     "text": [
      "This dictionary contains 3 keys\n"
     ]
    }
   ],
   "source": [
    "#dictionary3\n",
    "my_dict={\n",
    "    'brand': \"Ford\",\n",
    "    'model': \"Mustang\",\n",
    "    \"year\": 1964\n",
    "}\n",
    "\n",
    "print(f\"This dictionary contains {len(my_dict)} keys\")"
   ]
  },
  {
   "cell_type": "code",
   "execution_count": 12,
   "metadata": {},
   "outputs": [
    {
     "name": "stdout",
     "output_type": "stream",
     "text": [
      "dict_keys(['brand', 'model', 'year'])\n"
     ]
    }
   ],
   "source": [
    "#dictionary4\n",
    "my_dict={\n",
    "    'brand': \"Ford\",\n",
    "    'model': \"Mustang\",\n",
    "    \"year\": 1964\n",
    "}\n",
    "print(my_dict.keys())"
   ]
  },
  {
   "cell_type": "code",
   "execution_count": null,
   "metadata": {},
   "outputs": [
    {
     "name": "stdout",
     "output_type": "stream",
     "text": [
      "dict_values(['Ford', 'Mustang', 1964])\n"
     ]
    }
   ],
   "source": [
    "#dictionary5\n",
    "my_dict={\n",
    "    'brand': \"Ford\",\n",
    "    'model': \"Mustang\",\n",
    "    \"year\": 1964\n",
    "}\n",
    "print(my_dict.values())"
   ]
  },
  {
   "cell_type": "code",
   "execution_count": 15,
   "metadata": {},
   "outputs": [
    {
     "name": "stdout",
     "output_type": "stream",
     "text": [
      "{'student1': 1, 'student2': 2, 'score1': 100, 'score2': 90}\n"
     ]
    }
   ],
   "source": [
    "#dictionary6\n",
    "dict1={\"student1\": 1, \"student2\": 2}\n",
    "dict2={\"score1\": 100, \"score2\": 90}\n",
    "dict1.update(dict2)\n",
    "print(merge_dict(dict1, dict2))"
   ]
  },
  {
   "cell_type": "code",
   "execution_count": 18,
   "metadata": {},
   "outputs": [
    {
     "name": "stdout",
     "output_type": "stream",
     "text": [
      "{'student1': 1, 'student2': 2}\n"
     ]
    }
   ],
   "source": [
    "#dictionary7\n",
    "dict1={\"student1\": 1, \"student2\": 2}\n",
    "x=dict1.pop(\"student\", \"Key not found\")\n",
    "print(dict1)"
   ]
  },
  {
   "cell_type": "code",
   "execution_count": 19,
   "metadata": {},
   "outputs": [
    {
     "name": "stdout",
     "output_type": "stream",
     "text": [
      "{}\n"
     ]
    }
   ],
   "source": [
    "#dictionary8\n",
    "dict1={\"student1\": 1, \"student2\": 2}\n",
    "dict1.clear()\n",
    "print(dict1)"
   ]
  },
  {
   "cell_type": "code",
   "execution_count": 25,
   "metadata": {},
   "outputs": [
    {
     "name": "stdout",
     "output_type": "stream",
     "text": [
      "The dictionary is not empty\n"
     ]
    }
   ],
   "source": [
    "#dictionary9\n",
    "dict1={\"Student1\": 1, \"Student2\": 2}\n",
    "if dict1=={}:\n",
    "    print(\"The dictionary is empty\")\n",
    "else:\n",
    "    print(\"The dictionary is not empty\")"
   ]
  },
  {
   "cell_type": "code",
   "execution_count": 33,
   "metadata": {},
   "outputs": [
    {
     "name": "stdout",
     "output_type": "stream",
     "text": [
      "Key not found\n"
     ]
    }
   ],
   "source": [
    "#dictionary10\n",
    "dict1={\"Student1\": 1, \"Student2\": 2}\n",
    "def key_value(dct, key):\n",
    "    if key in dct:\n",
    "        print(f\"{key} : {dct[key]}\")\n",
    "    else:\n",
    "        print(\"Key not found\")\n",
    "key_value(dict1, \"Student3\")\n",
    "    "
   ]
  },
  {
   "cell_type": "code",
   "execution_count": 36,
   "metadata": {},
   "outputs": [
    {
     "name": "stdout",
     "output_type": "stream",
     "text": [
      "{'Student1': 3, 'Student2': 2}\n"
     ]
    }
   ],
   "source": [
    "#dictionary11\n",
    "dict1={\"Student1\": 1, \"Student2\": 2}\n",
    "dict1.update({\"Student1\": 3})\n",
    "print(dict1)"
   ]
  },
  {
   "cell_type": "code",
   "execution_count": 42,
   "metadata": {},
   "outputs": [
    {
     "name": "stdout",
     "output_type": "stream",
     "text": [
      "1 occured 2 times\n"
     ]
    }
   ],
   "source": [
    "#dictionary12\n",
    "def count_val(dct, val):\n",
    "    count=0\n",
    "    for i in dct.values():\n",
    "        if i==val:\n",
    "            count+=1\n",
    "    return count\n",
    "dict1={1: 1, 2: 2, 3: 1, 4: 3}\n",
    "val=1\n",
    "print(f\"{val} occured {count_val(dict1, val)} times\")"
   ]
  },
  {
   "cell_type": "code",
   "execution_count": 55,
   "metadata": {},
   "outputs": [
    {
     "name": "stdout",
     "output_type": "stream",
     "text": [
      "{1: 3, 2: 2, 3: 4}\n"
     ]
    }
   ],
   "source": [
    "#dictionary13\n",
    "dic1={1: 1, 2: 2, 3: 1, 4: 3}\n",
    "inverted_dict={k:v for v, k  in dic1.items()}\n",
    "print(inverted_dict)"
   ]
  },
  {
   "cell_type": "code",
   "execution_count": 48,
   "metadata": {},
   "outputs": [
    {
     "name": "stdout",
     "output_type": "stream",
     "text": [
      "[1, 3]\n"
     ]
    }
   ],
   "source": [
    "#dictionary14\n",
    "dict1={1: 1, 2: 2, 3: 1, 4: 3}\n",
    "val=1\n",
    "keys_with_val=[k for k, v in dict1.items() if v==val]\n",
    "print(keys_with_val)"
   ]
  },
  {
   "cell_type": "code",
   "execution_count": 54,
   "metadata": {},
   "outputs": [
    {
     "name": "stdout",
     "output_type": "stream",
     "text": [
      "{1: 'a', 2: 'b', 3: 'c', 4: 'd', 5: 'e', 6: None}\n"
     ]
    }
   ],
   "source": [
    "#dictionary15\n",
    "list1=[1, 2, 3, 4, 5, 6]\n",
    "list2=[\"a\", \"b\", \"c\", \"d\", \"e\"]\n",
    "dct={list1[i]: list2[i] if i<len(list2) else None for i in range(len(list1))}\n",
    "print(dct)"
   ]
  },
  {
   "cell_type": "code",
   "execution_count": 58,
   "metadata": {},
   "outputs": [
    {
     "name": "stdout",
     "output_type": "stream",
     "text": [
      "True\n"
     ]
    }
   ],
   "source": [
    "#dictionary16\n",
    "def isnested(dct):\n",
    "    isnested=False\n",
    "    for v in dct.values():\n",
    "        if type(v)==dict:\n",
    "            isnested=True\n",
    "            break\n",
    "    return isnested\n",
    "dict1={\n",
    "    \"name\":\"Jas\",\n",
    "    \"age\":20,\n",
    "    \"address\":{\n",
    "        \"city\":\"Kungrad\",\n",
    "        \"country\":\"Uzb\"\n",
    "    }\n",
    "}\n",
    "print(isnested(dict1))"
   ]
  },
  {
   "cell_type": "code",
   "execution_count": 59,
   "metadata": {},
   "outputs": [
    {
     "name": "stdout",
     "output_type": "stream",
     "text": [
      "Kungrad\n"
     ]
    }
   ],
   "source": [
    "#dictionary17\n",
    "dict1={\n",
    "    \"name\":\"Jas\",\n",
    "    \"age\":20,\n",
    "    \"address\":{\n",
    "        \"city\":\"Kungrad\",\n",
    "        \"country\":\"Uzb\"\n",
    "    }\n",
    "}\n",
    "city=dict1.get(\"address\", {}).get(\"city\", \"City not found\")\n",
    "print(city)"
   ]
  },
  {
   "cell_type": "code",
   "execution_count": 61,
   "metadata": {},
   "outputs": [
    {
     "name": "stdout",
     "output_type": "stream",
     "text": [
      "Not Found\n"
     ]
    }
   ],
   "source": [
    "#dictionary18\n",
    "from collections import defaultdict\n",
    "def default_value():\n",
    "    return \"Not Found\"\n",
    "dict1=defaultdict(default_value)\n",
    "print(dict1['address'])\n"
   ]
  },
  {
   "cell_type": "code",
   "execution_count": null,
   "metadata": {},
   "outputs": [
    {
     "name": "stdout",
     "output_type": "stream",
     "text": [
      "Dictionary contains 3 unique values\n"
     ]
    }
   ],
   "source": [
    "#dictionary19\n",
    "def count_unique_val(dct):\n",
    "    return len(set(dct.values()))\n",
    "dict1={1: 1, 2: 2, 3: 1, 4: 3}\n",
    "print(f'Dictionary contains {count_unique_val(dict1)} unique values')"
   ]
  },
  {
   "cell_type": "code",
   "execution_count": 65,
   "metadata": {},
   "outputs": [
    {
     "name": "stdout",
     "output_type": "stream",
     "text": [
      "{1: 1, 2: 2, 3: 1, 4: 3}\n"
     ]
    }
   ],
   "source": [
    "#dictionary20\n",
    "def sort_by_key(dct):\n",
    "    return dict(sorted(dct.items()))\n",
    "dict1={1: 1, 3: 1, 2: 2,  4: 3}\n",
    "print(sort_by_key(dict1))"
   ]
  },
  {
   "cell_type": "code",
   "execution_count": 66,
   "metadata": {},
   "outputs": [
    {
     "name": "stdout",
     "output_type": "stream",
     "text": [
      "{1: 1, 3: 1, 2: 2, 4: 3}\n"
     ]
    }
   ],
   "source": [
    "#dictionary21\n",
    "def sort_by_val(dct):\n",
    "    return dict(sorted(dct.items(), key=lambda x: x[1]))\n",
    "dict1={1: 1, 3: 1, 2: 2,  4: 3}\n",
    "print(sort_by_val(dict1))    "
   ]
  },
  {
   "cell_type": "code",
   "execution_count": 67,
   "metadata": {},
   "outputs": [
    {
     "name": "stdout",
     "output_type": "stream",
     "text": [
      "{2: 2, 4: 3}\n"
     ]
    }
   ],
   "source": [
    "#dictionary22\n",
    "dict1={1: 1, 3: 1, 2: 2,  4: 3}\n",
    "filtered_dict={k: v for k, v in dict1.items() if v>=2}\n",
    "print(filtered_dict)"
   ]
  },
  {
   "cell_type": "code",
   "execution_count": 68,
   "metadata": {},
   "outputs": [
    {
     "name": "stdout",
     "output_type": "stream",
     "text": [
      "True\n"
     ]
    }
   ],
   "source": [
    "#dictionary23\n",
    "def check_common_keys(dct1, dct2):\n",
    "    return bool(set(dct1.keys()) & set(dct2.keys()))\n",
    "dict1={1: 1, 2: 2}\n",
    "dict2={2: 2, 3: 3}\n",
    "print(check_common_keys(dict1, dict2))"
   ]
  },
  {
   "cell_type": "code",
   "execution_count": 70,
   "metadata": {},
   "outputs": [
    {
     "name": "stdout",
     "output_type": "stream",
     "text": [
      "{1: 2, 3: 4, 5: 6}\n"
     ]
    }
   ],
   "source": [
    "#dictionary24\n",
    "my_tuple=((1, 2), (3, 4), (5, 6))\n",
    "my_dict=dict(my_tuple)\n",
    "print(my_dict)    "
   ]
  },
  {
   "cell_type": "code",
   "execution_count": 81,
   "metadata": {},
   "outputs": [
    {
     "name": "stdout",
     "output_type": "stream",
     "text": [
      "(1, 2)\n"
     ]
    }
   ],
   "source": [
    "#dictionary25\n",
    "dict1={1: 2, 3: 4}\n",
    "x=tuple(dict1.items())\n",
    "print(x[0])"
   ]
  }
 ],
 "metadata": {
  "kernelspec": {
   "display_name": "Python 3",
   "language": "python",
   "name": "python3"
  },
  "language_info": {
   "codemirror_mode": {
    "name": "ipython",
    "version": 3
   },
   "file_extension": ".py",
   "mimetype": "text/x-python",
   "name": "python",
   "nbconvert_exporter": "python",
   "pygments_lexer": "ipython3",
   "version": "3.12.9"
  }
 },
 "nbformat": 4,
 "nbformat_minor": 2
}
