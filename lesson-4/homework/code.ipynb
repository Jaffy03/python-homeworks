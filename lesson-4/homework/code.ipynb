{
 "cells": [
  {
   "cell_type": "code",
   "execution_count": 5,
   "metadata": {},
   "outputs": [
    {
     "name": "stdout",
     "output_type": "stream",
     "text": [
      "[2, 2, 5]\n"
     ]
    }
   ],
   "source": [
    "#Question1\n",
    "def uncommon_elements(list1, list2):\n",
    "    list3=[]\n",
    "    for i in list1:\n",
    "        if i not in list2:\n",
    "            list3.append(i)\n",
    "    for j in list2:\n",
    "        if j not in list1:\n",
    "            list3.append(j)\n",
    "    return list3\n",
    "list1=[1, 1, 2, 3, 4, 2]\n",
    "list2=[1, 3, 4, 5]\n",
    "\n",
    "print(uncommon_elements(list1, list2))"
   ]
  },
  {
   "cell_type": "code",
   "execution_count": 8,
   "metadata": {},
   "outputs": [
    {
     "name": "stdout",
     "output_type": "stream",
     "text": [
      "1\n",
      "4\n",
      "9\n",
      "16\n"
     ]
    }
   ],
   "source": [
    "#Question2\n",
    "def print_square(n):\n",
    "    for i in range(1, n):\n",
    "        print(i**2)\n",
    "print_square(5)"
   ]
  },
  {
   "cell_type": "code",
   "execution_count": 11,
   "metadata": {},
   "outputs": [
    {
     "name": "stdout",
     "output_type": "stream",
     "text": [
      "abc_abcd_abcdeab_cdef_abcdefg\n"
     ]
    }
   ],
   "source": [
    "#Question3\n",
    "def modify_string(txt):\n",
    "    vowels = \"aeiouAEIOU\"\n",
    "    result = []\n",
    "    count = 0\n",
    "    underscored_letters = set()\n",
    "\n",
    "    for i, char in enumerate(txt):\n",
    "        result.append(char)\n",
    "        count += 1\n",
    "\n",
    "        if count == 3 and i != len(txt) - 1:\n",
    "            if char in vowels or char in underscored_letters:\n",
    "                count -= 1  # Move to the next character without resetting count\n",
    "            else:\n",
    "                result.append('_')\n",
    "                underscored_letters.add(char)\n",
    "                count = 0\n",
    "\n",
    "    return ''.join(result)\n",
    "\n",
    "\n",
    "txt=\"abcabcdabcdeabcdefabcdefg\"\n",
    "print(modify_string(txt))\n",
    "\n",
    "               \n",
    "                "
   ]
  },
  {
   "cell_type": "code",
   "execution_count": 12,
   "metadata": {},
   "outputs": [],
   "source": [
    "#Question4\n",
    "import random\n",
    "\n",
    "def number_guessing_game():\n",
    "    while True:\n",
    "        # Generate a random number between 1 and 100\n",
    "        secret_number = random.randint(1, 100)\n",
    "        attempts = 10\n",
    "\n",
    "        print(\"Welcome to the Number Guessing Game!\")\n",
    "        print(\"I've selected a number between 1 and 100. You have 10 attempts to guess it.\")\n",
    "\n",
    "        while attempts > 0:\n",
    "            try:\n",
    "                # Get the player's guess\n",
    "                guess = int(input(f\"Attempt {11 - attempts}: Enter your guess: \"))\n",
    "            except ValueError:\n",
    "                print(\"Invalid input! Please enter a number.\")\n",
    "                continue\n",
    "\n",
    "            # Check if the guess is correct\n",
    "            if guess == secret_number:\n",
    "                print(\"You guessed it right!\")\n",
    "                break\n",
    "            elif guess < secret_number:\n",
    "                print(\"Too low!\")\n",
    "            else:\n",
    "                print(\"Too high!\")\n",
    "\n",
    "            attempts -= 1\n",
    "\n",
    "        # If the player runs out of attempts\n",
    "        if attempts == 0:\n",
    "            print(f\"You lost. The correct number was {secret_number}.\")\n",
    "\n",
    "        # Ask if the player wants to play again\n",
    "        play_again = input(\"Want to play again? (Y/Yes/OK): \").strip().lower()\n",
    "        if play_again not in ['y', 'yes', 'ok']:\n",
    "            print(\"Thanks for playing! Goodbye!\")\n",
    "            break\n"
   ]
  },
  {
   "cell_type": "code",
   "execution_count": null,
   "metadata": {},
   "outputs": [],
   "source": [
    "#Question5\n",
    "def has_uppercase(s):\n",
    "        for char in s:\n",
    "            if char.isupper():\n",
    "                return True\n",
    "            return False\n",
    "while True:\n",
    "    password=input(\"Please crete a new password: \")\n",
    "    if len(password)<8:\n",
    "        print(\"Password is too short\")\n",
    "    elif not has_uppercase(password):\n",
    "        print(\"Password must contain an uppercase letter.\")\n",
    "    else:        \n",
    "        print(\"Password is strong\")\n",
    "        break\n"
   ]
  },
  {
   "cell_type": "code",
   "execution_count": 13,
   "metadata": {},
   "outputs": [
    {
     "name": "stdout",
     "output_type": "stream",
     "text": [
      "2\n",
      "3\n",
      "5\n",
      "7\n",
      "11\n",
      "13\n",
      "17\n",
      "19\n",
      "23\n",
      "29\n",
      "31\n",
      "37\n",
      "41\n",
      "43\n",
      "47\n",
      "53\n",
      "59\n",
      "61\n",
      "67\n",
      "71\n",
      "73\n",
      "79\n",
      "83\n",
      "89\n",
      "97\n"
     ]
    }
   ],
   "source": [
    "#Question6\n",
    "for i in range(2, 101):\n",
    "    for j in range(2, 101):\n",
    "        if i%j==0:\n",
    "            break\n",
    "    if i==j:\n",
    "        print(i)\n"
   ]
  },
  {
   "cell_type": "code",
   "execution_count": null,
   "metadata": {},
   "outputs": [],
   "source": []
  }
 ],
 "metadata": {
  "kernelspec": {
   "display_name": "Python 3",
   "language": "python",
   "name": "python3"
  },
  "language_info": {
   "codemirror_mode": {
    "name": "ipython",
    "version": 3
   },
   "file_extension": ".py",
   "mimetype": "text/x-python",
   "name": "python",
   "nbconvert_exporter": "python",
   "pygments_lexer": "ipython3",
   "version": "3.12.9"
  }
 },
 "nbformat": 4,
 "nbformat_minor": 2
}
