{
 "cells": [
  {
   "cell_type": "code",
   "execution_count": null,
   "metadata": {},
   "outputs": [
    {
     "name": "stdout",
     "output_type": "stream",
     "text": [
      "[10 11 12 13 14 15 16 17 18 19 20 21 22 23 24 25 26 27 28 29 30 31 32 33\n",
      " 34 35 36 37 38 39 40 41 42 43 44 45 46 47 48 49]\n"
     ]
    }
   ],
   "source": [
    "#1\n",
    "import numpy as np\n",
    "vector = np.arange(10, 50)\n",
    "print(vector)"
   ]
  },
  {
   "cell_type": "code",
   "execution_count": null,
   "metadata": {},
   "outputs": [
    {
     "name": "stdout",
     "output_type": "stream",
     "text": [
      "[[0 1 2]\n",
      " [3 4 5]\n",
      " [6 7 8]]\n"
     ]
    }
   ],
   "source": [
    "#2\n",
    "matrix = np.arange(9).reshape(3, 3)\n",
    "print(matrix)"
   ]
  },
  {
   "cell_type": "code",
   "execution_count": 5,
   "metadata": {},
   "outputs": [
    {
     "name": "stdout",
     "output_type": "stream",
     "text": [
      "[[1. 0. 0.]\n",
      " [0. 1. 0.]\n",
      " [0. 0. 1.]]\n"
     ]
    }
   ],
   "source": [
    "#3\n",
    "identity_matrix = np.eye(3)\n",
    "print(identity_matrix)"
   ]
  },
  {
   "cell_type": "code",
   "execution_count": 7,
   "metadata": {},
   "outputs": [
    {
     "name": "stdout",
     "output_type": "stream",
     "text": [
      "[[0.34994736 0.36286837 0.14035277]\n",
      " [0.67751826 0.91114566 0.79964655]\n",
      " [0.42299412 0.497718   0.95376436]]\n"
     ]
    }
   ],
   "source": [
    "#4\n",
    "random_array = np.random.rand(3, 3)\n",
    "print(random_array) "
   ]
  },
  {
   "cell_type": "code",
   "execution_count": null,
   "metadata": {},
   "outputs": [
    {
     "name": "stdout",
     "output_type": "stream",
     "text": [
      "Array:\n",
      " [[ 0.7616295  -0.08379202  0.22469036  1.0385832  -0.47418828 -0.16066894\n",
      "   0.97206455  0.03409468  0.80591893  1.71773334]\n",
      " [ 1.23133237  0.54490215  0.60777574 -0.45199461 -0.68232886 -0.4657835\n",
      "   0.5074375  -0.02444483  0.18363704 -0.45997031]\n",
      " [ 1.90443615 -0.34550371 -1.38281269 -0.76814587 -0.48902088 -0.09722089\n",
      "   0.65360809 -0.03684423 -0.9522921   0.0559413 ]\n",
      " [-0.24889322  1.49840876  0.77340647 -1.25725381 -0.4581308   1.60420884\n",
      "   0.63241105  0.84174678 -0.01742034  2.03442492]\n",
      " [-1.90965671  0.19524789  2.06245471  0.73478395  1.607668    0.39498711\n",
      "  -0.16932136 -1.46888566  0.56394525 -0.82006507]\n",
      " [-0.10609642  0.65832908  1.00189976  1.53294751 -1.46474692 -0.14101952\n",
      "   1.45118641 -2.03166289  1.1107428   1.00909812]\n",
      " [ 0.25975643 -0.6068822  -0.46282076  0.57490656 -1.94902753 -0.6882625\n",
      "   2.04734445 -0.89118951 -0.58011079  0.72530859]\n",
      " [-0.51606737 -1.04729124 -0.50015001 -0.86646727  0.28245743 -1.2630317\n",
      "  -0.06110325  0.29694569 -2.94501574 -0.09236488]\n",
      " [-1.58760581  0.5900933  -0.53961588 -0.66617978  0.74533128  1.03883447\n",
      "   1.07939259  0.66140224 -0.85195066 -1.51827298]\n",
      " [ 2.63050321 -1.25534743  0.36232277 -0.94466578  0.70593622  0.7021032\n",
      "   1.02247751  0.92792717  0.37220231  1.73891808]]\n",
      "min: -2.945015740319873\n",
      "max: 2.6305032144715983\n"
     ]
    }
   ],
   "source": [
    "#5\n",
    "random_array = np.random.randn(10, 10)\n",
    "min_val = np.min(random_array)\n",
    "max_val = np.max(random_array)\n",
    "print(\"Array:\\n\", random_array)\n",
    "print(\"min:\", min_val)\n",
    "print(\"max:\", max_val)"
   ]
  },
  {
   "cell_type": "code",
   "execution_count": 9,
   "metadata": {},
   "outputs": [
    {
     "name": "stdout",
     "output_type": "stream",
     "text": [
      "Vector: [0.67908758 0.76221113 0.04665073 0.18631848 0.94262645 0.61655911\n",
      " 0.58230968 0.49603716 0.82370962 0.18928018 0.12915761 0.30861998\n",
      " 0.10395121 0.09139816 0.86567733 0.29111667 0.42742936 0.68440689\n",
      " 0.20009938 0.87081537 0.75949092 0.27964453 0.08398465 0.33256298\n",
      " 0.49794153 0.63634912 0.98066674 0.35473261 0.73461284 0.92633058]\n",
      "Mean: 0.496125952724647\n"
     ]
    }
   ],
   "source": [
    "#6\n",
    "random_vector = np.random.rand(30)\n",
    "mean_value = np.mean(random_vector)\n",
    "print(\"Vector:\", random_vector)\n",
    "print(\"Mean:\", mean_value)"
   ]
  },
  {
   "cell_type": "code",
   "execution_count": 10,
   "metadata": {},
   "outputs": [
    {
     "name": "stdout",
     "output_type": "stream",
     "text": [
      "Original matrix:\n",
      " [[0.67025464 0.49572053 0.36802828 0.2199874  0.67230467]\n",
      " [0.62178496 0.27647996 0.77030544 0.82001794 0.62719059]\n",
      " [0.93471044 0.90822165 0.67098666 0.44972027 0.00975969]\n",
      " [0.72156689 0.72253572 0.35052641 0.91212549 0.22764908]\n",
      " [0.80785602 0.28692271 0.14371198 0.93120151 0.03306288]]\n",
      "Normalized matrix:\n",
      " [[ 0.43658284 -0.17718265 -0.62622436 -1.14682395  0.44379197]\n",
      " [ 0.26613469 -0.94816261  0.78842084  0.96323948  0.2851441 ]\n",
      " [ 1.36656635  1.27341607  0.43915705 -0.33894688 -1.88610934]\n",
      " [ 0.61702717  0.62043415 -0.68777132  1.28714427 -1.11988095]\n",
      " [ 0.92047096 -0.91143968 -1.41505359  1.35422687 -1.80416149]]\n"
     ]
    }
   ],
   "source": [
    "#7\n",
    "random_matrix = np.random.rand(5, 5)\n",
    "normalized_matrix = (random_matrix - np.mean(random_matrix)) / np.std(random_matrix)\n",
    "print(\"Original matrix:\\n\", random_matrix)\n",
    "print(\"Normalized matrix:\\n\", normalized_matrix)\n"
   ]
  },
  {
   "cell_type": "code",
   "execution_count": 11,
   "metadata": {},
   "outputs": [
    {
     "name": "stdout",
     "output_type": "stream",
     "text": [
      "Matrix1:\n",
      " [[0.10023814 0.46792562 0.67354869]\n",
      " [0.41505572 0.64808683 0.10575265]\n",
      " [0.24293077 0.14842841 0.59344834]\n",
      " [0.12909948 0.19299071 0.42903679]\n",
      " [0.11241366 0.87388288 0.04818664]]\n",
      "Matrix2:\n",
      " [[0.3988896  0.56285785]\n",
      " [0.940593   0.06147742]\n",
      " [0.18326224 0.20003964]]\n",
      "Product:\n",
      " [[0.60354755 0.21992312]\n",
      " [0.79452781 0.2946148 ]\n",
      " [0.34526995 0.26457368]\n",
      " [0.31164839 0.17035359]\n",
      " [0.87563955 0.12663621]]\n"
     ]
    }
   ],
   "source": [
    "#8\n",
    "matrix1 = np.random.rand(5, 3)\n",
    "matrix2 = np.random.rand(3, 2)\n",
    "product = np.dot(matrix1, matrix2)\n",
    "print(\"Matrix1:\\n\", matrix1)\n",
    "print(\"Matrix2:\\n\", matrix2)\n",
    "print(\"Product:\\n\", product)\n"
   ]
  },
  {
   "cell_type": "code",
   "execution_count": 12,
   "metadata": {},
   "outputs": [
    {
     "name": "stdout",
     "output_type": "stream",
     "text": [
      "Matrix1:\n",
      " [[0.2686736  0.87918205 0.18233631]\n",
      " [0.83061581 0.99451992 0.61598103]\n",
      " [0.69203908 0.98661266 0.26090237]]\n",
      "Matrix2:\n",
      " [[0.84538036 0.56502431 0.22267895]\n",
      " [0.68113107 0.13742055 0.84614605]\n",
      " [0.81367414 0.03210061 0.6461169 ]]\n",
      "Dpt product:\n",
      " [[0.97433194 0.2784779  0.92155495]\n",
      " [1.88079254 0.62575896 1.42446551]\n",
      " [1.4693383  0.53497488 1.15749438]]\n"
     ]
    }
   ],
   "source": [
    "#9\n",
    "matrix1 = np.random.rand(3, 3)\n",
    "matrix2 = np.random.rand(3, 3)\n",
    "dot_product = np.dot(matrix1, matrix2)\n",
    "print(\"Matrix1:\\n\", matrix1)\n",
    "print(\"Matrix2:\\n\", matrix2)\n",
    "print(\"Dpt product:\\n\", dot_product)"
   ]
  },
  {
   "cell_type": "code",
   "execution_count": 13,
   "metadata": {},
   "outputs": [
    {
     "name": "stdout",
     "output_type": "stream",
     "text": [
      "Original matrix:\n",
      " [[0.22637385 0.09949075 0.33789138 0.59865541]\n",
      " [0.19770393 0.93514011 0.86697776 0.22912252]\n",
      " [0.89849669 0.36424159 0.23064849 0.02280524]\n",
      " [0.48019421 0.02899624 0.21987645 0.76464295]]\n",
      "Transposed matrix:\n",
      " [[0.22637385 0.19770393 0.89849669 0.48019421]\n",
      " [0.09949075 0.93514011 0.36424159 0.02899624]\n",
      " [0.33789138 0.86697776 0.23064849 0.21987645]\n",
      " [0.59865541 0.22912252 0.02280524 0.76464295]]\n"
     ]
    }
   ],
   "source": [
    "#10\n",
    "matrix = np.random.rand(4, 4)\n",
    "transpose_matrix = matrix.T\n",
    "print(\"Original matrix:\\n\", matrix)\n",
    "print(\"Transposed matrix:\\n\", transpose_matrix)\n"
   ]
  },
  {
   "cell_type": "code",
   "execution_count": 14,
   "metadata": {},
   "outputs": [
    {
     "name": "stdout",
     "output_type": "stream",
     "text": [
      "Matrix:\n",
      " [[0.50877924 0.7903943  0.05211303]\n",
      " [0.17667552 0.21439462 0.75262525]\n",
      " [0.15935615 0.51815764 0.21853523]]\n",
      "Determinant: -0.10730565430274125\n"
     ]
    }
   ],
   "source": [
    "#11\n",
    "matrix = np.random.rand(3, 3)\n",
    "determinant = np.linalg.det(matrix)\n",
    "print(\"Matrix:\\n\", matrix)\n",
    "print(\"Determinant:\", determinant)\n"
   ]
  },
  {
   "cell_type": "code",
   "execution_count": 16,
   "metadata": {},
   "outputs": [
    {
     "name": "stdout",
     "output_type": "stream",
     "text": [
      "Matrix A:\n",
      " [[0.6923123  0.91353282 0.81500346 0.01497447]\n",
      " [0.68387609 0.08573836 0.66389758 0.88465011]\n",
      " [0.28794426 0.81469447 0.13754757 0.1993685 ]]\n",
      "Matrix B:\n",
      " [[0.75241517 0.49659347 0.70193983]\n",
      " [0.82829702 0.43319781 0.11923083]\n",
      " [0.18441756 0.50884685 0.79709154]\n",
      " [0.71942391 0.9952028  0.07584882]]\n",
      "Matrix Product (A dot B):\n",
      " [[1.43865672 1.16915276 1.24565101]\n",
      " [1.34444838 1.59497852 1.08654933]\n",
      " [1.06025928 0.76431783 0.42401611]]\n"
     ]
    }
   ],
   "source": [
    "#12\n",
    "A = np.random.rand(3, 4)\n",
    "B = np.random.rand(4, 3)\n",
    "product = np.dot(A, B)\n",
    "print(\"Matrix A:\\n\", A)\n",
    "print(\"Matrix B:\\n\", B)\n",
    "print(\"Matrix Product (A dot B):\\n\", product)"
   ]
  },
  {
   "cell_type": "code",
   "execution_count": 19,
   "metadata": {},
   "outputs": [
    {
     "name": "stdout",
     "output_type": "stream",
     "text": [
      "Matrix:\n",
      " [[0.6474737  0.4779483  0.04857595]\n",
      " [0.56544754 0.23530032 0.37891297]\n",
      " [0.28253029 0.16390668 0.25047862]]\n",
      "Vector:\n",
      " [[0.68511154]\n",
      " [0.68904534]\n",
      " [0.17632721]]\n",
      "Matrix-Vector Product:\n",
      " [[0.78148501]\n",
      " [0.61633989]\n",
      " [0.35067009]]\n"
     ]
    }
   ],
   "source": [
    "#13\n",
    "matrix = np.random.rand(3, 3)\n",
    "vector = np.random.rand(3, 1)\n",
    "product = np.dot(matrix, vector)\n",
    "print(\"Matrix:\\n\", matrix)\n",
    "print(\"Vector:\\n\", vector)\n",
    "print(\"Matrix-Vector Product:\\n\", product)"
   ]
  },
  {
   "cell_type": "code",
   "execution_count": 18,
   "metadata": {},
   "outputs": [
    {
     "name": "stdout",
     "output_type": "stream",
     "text": [
      "Matrix A:\n",
      " [[0.75613675 0.23528455 0.59927889]\n",
      " [0.94422623 0.31893001 0.04860332]\n",
      " [0.30243914 0.97182703 0.68004238]]\n",
      "Vector b:\n",
      " [[0.99277792]\n",
      " [0.51877443]\n",
      " [0.62515817]]\n",
      "Solution x:\n",
      " [[ 0.58213938]\n",
      " [-0.25250965]\n",
      " [ 1.02124833]]\n"
     ]
    }
   ],
   "source": [
    "#14\n",
    "A = np.random.rand(3, 3)\n",
    "b = np.random.rand(3, 1)\n",
    "x = np.linalg.solve(A, b)\n",
    "print(\"Matrix A:\\n\", A)\n",
    "print(\"Vector b:\\n\", b)\n",
    "print(\"Solution x:\\n\", x)"
   ]
  },
  {
   "cell_type": "code",
   "execution_count": 21,
   "metadata": {},
   "outputs": [
    {
     "name": "stdout",
     "output_type": "stream",
     "text": [
      "Matrix:\n",
      " [[0.33906092 0.15775189 0.80232286 0.54591692 0.80887879]\n",
      " [0.88733893 0.1408021  0.55693161 0.60865947 0.25933761]\n",
      " [0.73852677 0.30523499 0.72731439 0.49708383 0.05058383]\n",
      " [0.29762476 0.05011458 0.56300887 0.88769882 0.40484902]\n",
      " [0.32288524 0.89355978 0.58257856 0.93032695 0.58156765]]\n",
      "Row-wise sums: [2.65393138 2.45306971 2.31874381 2.20329604 3.31091818]\n",
      "Column-wise sums: [2.58543661 1.54746333 3.2321563  3.46968599 2.10521689]\n"
     ]
    }
   ],
   "source": [
    "#15\n",
    "matrix = np.random.rand(5, 5)\n",
    "row_sum = np.sum(matrix, axis=1)\n",
    "column_sum = np.sum(matrix, axis=0)\n",
    "print(\"Matrix:\\n\", matrix)\n",
    "print(\"Row-wise sums:\", row_sum)\n",
    "print(\"Column-wise sums:\", column_sum)"
   ]
  }
 ],
 "metadata": {
  "kernelspec": {
   "display_name": "Python 3",
   "language": "python",
   "name": "python3"
  },
  "language_info": {
   "codemirror_mode": {
    "name": "ipython",
    "version": 3
   },
   "file_extension": ".py",
   "mimetype": "text/x-python",
   "name": "python",
   "nbconvert_exporter": "python",
   "pygments_lexer": "ipython3",
   "version": "3.12.9"
  }
 },
 "nbformat": 4,
 "nbformat_minor": 2
}
