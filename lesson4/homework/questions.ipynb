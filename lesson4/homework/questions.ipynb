{
 "cells": [
  {
   "cell_type": "code",
   "execution_count": null,
   "metadata": {
    "vscode": {
     "languageId": "plaintext"
    }
   },
   "outputs": [],
   "source": [
    "1. Quiz results= 13/13"
   ]
  },
  {
   "cell_type": "code",
   "execution_count": null,
   "metadata": {
    "vscode": {
     "languageId": "plaintext"
    }
   },
   "outputs": [],
   "source": [
    "2. \"Continue\" skips the rest of the code for one iteration, while \"break\" exits the loop entirely"
   ]
  },
  {
   "cell_type": "code",
   "execution_count": null,
   "metadata": {
    "vscode": {
     "languageId": "plaintext"
    }
   },
   "outputs": [],
   "source": [
    "3. \"For loop\" have finite number of iterations, when \"While loop\" iterates until a certain condition is met."
   ]
  },
  {
   "cell_type": "code",
   "execution_count": null,
   "metadata": {
    "vscode": {
     "languageId": "plaintext"
    }
   },
   "outputs": [],
   "source": [
    "4. Nested for loop has one or more loops inside one for loop. \n",
    "Example:\n",
    "for <iteration1> in <sequence 1>:\n",
    "    for<iteration2> in <sequence 2>:\n",
    "        print(element, end=' ')\n",
    "    print(\"\\n\")   \n",
    "\n",
    "this nested loop will print out 2d matrix "
   ]
  }
 ],
 "metadata": {
  "language_info": {
   "name": "python"
  }
 },
 "nbformat": 4,
 "nbformat_minor": 2
}
